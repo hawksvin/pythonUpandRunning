# A program to Identify and list all prime numbers between 0 and 100

# define an empty collection to list all numbers between 0 and 100
just_nums = []

# get numbers all number from 0 to 100
for i in range(0,101):
    just_nums.append(i)

print("------------------ALL NUMBERS FROM 0 TO 100-----------------")
print(just_nums,"\n")

# check to see if a number is prime if it meets the following conditions
# a number is prime if and only if it is divisibe by only 1 and itself
# if the number is 1 it is not a prime number
def check_prime(number):
    if number <= 0:
        return "not defined"
    elif number == 1:
        return "not prime"
    for i in range(2,number):
        if number % i == 0:
            return "not prime"
    return "prime"      

# define another list that collects only prime numbers
def list_prime(list):
        prime_list = []
        for i in list:
            x = check_prime(i) 
            if x == "prime":
                prime_list.append(i)
        return prime_list
# print prime numbers between 0 and 100
print("------------------PRIME NUMBERS FROM 0 TO 100-----------------")
print(list_prime(just_nums)) 
