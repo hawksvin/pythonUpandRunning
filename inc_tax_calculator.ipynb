{
 "cells": [
  {
   "cell_type": "markdown",
   "metadata": {},
   "source": [
    "# Income Tax Calculator"
   ]
  },
  {
   "cell_type": "code",
   "execution_count": 6,
   "metadata": {},
   "outputs": [
    {
     "name": "stdout",
     "output_type": "stream",
     "text": [
      "Your gross income is $ 300000  You have  2  dependent(s) \n",
      "\n",
      "--------------------------------------------------------\n",
      "Your taxable income is $ 283800.0\n",
      "Your Tax due is $ 74125\n"
     ]
    }
   ],
   "source": [
    "# initialize the variables\n",
    "max10 = 9875\n",
    "max12 = 40125\n",
    "max22 = 85525\n",
    "max24 = 163300\n",
    "max32 = 207350\n",
    "max35 = 518400\n",
    "\n",
    "tier10_tax = max10 * .1\n",
    "tier12_tax = tier10_tax + ((max12 - max10) * 0.12)\n",
    "tier22_tax = tier12_tax + ((max22 - max12) * 0.22)\n",
    "tier24_tax = tier22_tax + ((max24 - max22) * 0.24)\n",
    "tier32_tax = tier24_tax + ((max32 - max24) * 0.32)\n",
    "tier35_tax = tier32_tax + ((max35 - max32) * 0.35)\n",
    "\n",
    "\n",
    "def calc_taxable_inc(gInc , nDep):\n",
    "    \n",
    "    #convert the input values to numbers\n",
    "    try:\n",
    "        gross_inc_float = float(gInc)\n",
    "        num_dep_int = int(nDep)\n",
    "    \n",
    "\n",
    "        # calculate the taxable income\n",
    "        tax_income = gross_inc_float - 12200 - (2000 * num_dep_int)\n",
    "\n",
    "        if tax_income <= 0:\n",
    "            tax_due = 0\n",
    "        elif tax_income <= max10:\n",
    "            tax_due = tax_income * 0.1\n",
    "        elif tax_income <= max12:\n",
    "            tax_due = tier10_tax + ((tax_income - max10) * .12)\n",
    "        elif tax_income <= max22:\n",
    "            tax_due = tier12_tax + ((tax_income - max12) * .22)\n",
    "        elif tax_income <= max24:\n",
    "            tax_due = tier22_tax + ((tax_income - max22) * .24)\n",
    "        elif tax_income  <= max32:\n",
    "            tax_due = tier24_tax + ((tax_income - max24) * .32)\n",
    "        elif tax_income <= max35:\n",
    "            tax_due = tier32_tax + ((tax_income - max32) * .35)\n",
    "        elif tax_income > max35:\n",
    "            tax_due = tier35_tax + ((tax_income - max35) * .37)\n",
    "    \n",
    "        # report results to the user\n",
    "        print(\"Your gross income is $\",gInc,\" You have \",nDep,\" dependent(s) \\n\")\n",
    "        print(\"--------------------------------------------------------\")\n",
    "        print(\"Your taxable income is $\",tax_income)\n",
    "        print(\"Your Tax due is $\",int(tax_due))\n",
    "\n",
    "    except ValueError:\n",
    "        print(\"C'mon numbers won't hurt!....Let's try again\")\n",
    "\n",
    "\n",
    "# define user input\n",
    "gross_inc = input(\"Enter your gross income  \")\n",
    "num_dep = input(\"How many dependents are you claiming?  \")\n",
    "\n",
    "# call function to calculate the taxable income\n",
    "calc_taxable_inc(gross_inc , num_dep)\n"
   ]
  }
 ],
 "metadata": {
  "interpreter": {
   "hash": "09fe49c1df1a29cdc716ca09f949c0f9fbb4081e1c312117f436018d3302f521"
  },
  "kernelspec": {
   "display_name": "Python 3.9.9 64-bit (windows store)",
   "language": "python",
   "name": "python3"
  },
  "language_info": {
   "codemirror_mode": {
    "name": "ipython",
    "version": 3
   },
   "file_extension": ".py",
   "mimetype": "text/x-python",
   "name": "python",
   "nbconvert_exporter": "python",
   "pygments_lexer": "ipython3",
   "version": "3.9.9"
  },
  "orig_nbformat": 4
 },
 "nbformat": 4,
 "nbformat_minor": 2
}
