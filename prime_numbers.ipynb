{
 "cells": [
  {
   "cell_type": "code",
   "execution_count": 2,
   "metadata": {},
   "outputs": [
    {
     "name": "stdout",
     "output_type": "stream",
     "text": [
      "------------------ALL NUMBERS FROM 0 TO 100-----------------\n",
      "[0, 1, 2, 3, 4, 5, 6, 7, 8, 9, 10, 11, 12, 13, 14, 15, 16, 17, 18, 19, 20, 21, 22, 23, 24, 25, 26, 27, 28, 29, 30, 31, 32, 33, 34, 35, 36, 37, 38, 39, 40, 41, 42, 43, 44, 45, 46, 47, 48, 49, 50, 51, 52, 53, 54, 55, 56, 57, 58, 59, 60, 61, 62, 63, 64, 65, 66, 67, 68, 69, 70, 71, 72, 73, 74, 75, 76, 77, 78, 79, 80, 81, 82, 83, 84, 85, 86, 87, 88, 89, 90, 91, 92, 93, 94, 95, 96, 97, 98, 99, 100] \n",
      "\n",
      "------------------PRIME NUMBERS FROM 0 TO 100-----------------\n",
      "[2, 3, 5, 7, 11, 13, 17, 19, 23, 29, 31, 37, 41, 43, 47, 53, 59, 61, 67, 71, 73, 79, 83, 89, 97]\n"
     ]
    }
   ],
   "source": [
    "# A program to Identify and list all prime numbers between 0 and 100\n",
    "\n",
    "# define an empty collection to list all numbers between 0 and 100\n",
    "just_nums = []\n",
    "\n",
    "# get numbers all number from 0 to 100\n",
    "for i in range(0,101):\n",
    "    just_nums.append(i)\n",
    "\n",
    "print(\"------------------ALL NUMBERS FROM 0 TO 100-----------------\")\n",
    "print(just_nums,\"\\n\")\n",
    "\n",
    "# check to see if a number is prime if it meets the following conditions\n",
    "# a number is prime if and only if it is divisibe by only 1 and itself\n",
    "# if the number is 1 it is not a prime number\n",
    "def check_prime(number):\n",
    "    if number <= 0:\n",
    "        return \"not defined\"\n",
    "    elif number == 1:\n",
    "        return \"not prime\"\n",
    "    for i in range(2,number):\n",
    "        if number % i == 0:\n",
    "            return \"not prime\"\n",
    "    return \"prime\"      \n",
    "\n",
    "# define another list that collects only prime numbers\n",
    "def list_prime(list):\n",
    "        prime_list = []\n",
    "        for i in list:\n",
    "            x = check_prime(i) \n",
    "            if x == \"prime\":\n",
    "                prime_list.append(i)\n",
    "        return prime_list\n",
    "# print prime numbers between 0 and 100\n",
    "print(\"------------------PRIME NUMBERS FROM 0 TO 100-----------------\")\n",
    "print(list_prime(just_nums)) "
   ]
  }
 ],
 "metadata": {
  "interpreter": {
   "hash": "09fe49c1df1a29cdc716ca09f949c0f9fbb4081e1c312117f436018d3302f521"
  },
  "kernelspec": {
   "display_name": "Python 3.9.9 64-bit (windows store)",
   "language": "python",
   "name": "python3"
  },
  "language_info": {
   "codemirror_mode": {
    "name": "ipython",
    "version": 3
   },
   "file_extension": ".py",
   "mimetype": "text/x-python",
   "name": "python",
   "nbconvert_exporter": "python",
   "pygments_lexer": "ipython3",
   "version": "3.9.9"
  },
  "orig_nbformat": 4
 },
 "nbformat": 4,
 "nbformat_minor": 2
}
